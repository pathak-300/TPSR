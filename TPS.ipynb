{
 "cells": [
  {
   "cell_type": "code",
   "execution_count": 1,
   "id": "b2158c01-1b2c-4552-8651-83ec92411ef1",
   "metadata": {},
   "outputs": [],
   "source": [
    "import pandas as pd\n",
    "import numpy as np"
   ]
  },
  {
   "cell_type": "code",
   "execution_count": 2,
   "id": "53174aaa-de65-449f-9e99-561f28f9388b",
   "metadata": {},
   "outputs": [
    {
     "data": {
      "text/html": [
       "<div>\n",
       "<style scoped>\n",
       "    .dataframe tbody tr th:only-of-type {\n",
       "        vertical-align: middle;\n",
       "    }\n",
       "\n",
       "    .dataframe tbody tr th {\n",
       "        vertical-align: top;\n",
       "    }\n",
       "\n",
       "    .dataframe thead th {\n",
       "        text-align: right;\n",
       "    }\n",
       "</style>\n",
       "<table border=\"1\" class=\"dataframe\">\n",
       "  <thead>\n",
       "    <tr style=\"text-align: right;\">\n",
       "      <th></th>\n",
       "      <th>class</th>\n",
       "      <th>aa_000</th>\n",
       "      <th>ab_000</th>\n",
       "      <th>ac_000</th>\n",
       "      <th>ad_000</th>\n",
       "      <th>ae_000</th>\n",
       "      <th>af_000</th>\n",
       "      <th>ag_000</th>\n",
       "      <th>ag_001</th>\n",
       "      <th>ag_002</th>\n",
       "      <th>...</th>\n",
       "      <th>ee_002</th>\n",
       "      <th>ee_003</th>\n",
       "      <th>ee_004</th>\n",
       "      <th>ee_005</th>\n",
       "      <th>ee_006</th>\n",
       "      <th>ee_007</th>\n",
       "      <th>ee_008</th>\n",
       "      <th>ee_009</th>\n",
       "      <th>ef_000</th>\n",
       "      <th>eg_000</th>\n",
       "    </tr>\n",
       "  </thead>\n",
       "  <tbody>\n",
       "    <tr>\n",
       "      <th>0</th>\n",
       "      <td>pos</td>\n",
       "      <td>153204</td>\n",
       "      <td>0.0</td>\n",
       "      <td>1.820000e+02</td>\n",
       "      <td>NaN</td>\n",
       "      <td>0.0</td>\n",
       "      <td>0.0</td>\n",
       "      <td>0.0</td>\n",
       "      <td>0.0</td>\n",
       "      <td>0.0</td>\n",
       "      <td>...</td>\n",
       "      <td>129862.0</td>\n",
       "      <td>26872.0</td>\n",
       "      <td>34044.0</td>\n",
       "      <td>22472.0</td>\n",
       "      <td>34362.0</td>\n",
       "      <td>0.0</td>\n",
       "      <td>0.0</td>\n",
       "      <td>0.0</td>\n",
       "      <td>0.0</td>\n",
       "      <td>0.0</td>\n",
       "    </tr>\n",
       "    <tr>\n",
       "      <th>1</th>\n",
       "      <td>pos</td>\n",
       "      <td>453236</td>\n",
       "      <td>NaN</td>\n",
       "      <td>2.926000e+03</td>\n",
       "      <td>NaN</td>\n",
       "      <td>0.0</td>\n",
       "      <td>0.0</td>\n",
       "      <td>0.0</td>\n",
       "      <td>0.0</td>\n",
       "      <td>222.0</td>\n",
       "      <td>...</td>\n",
       "      <td>7908038.0</td>\n",
       "      <td>3026002.0</td>\n",
       "      <td>5025350.0</td>\n",
       "      <td>2025766.0</td>\n",
       "      <td>1160638.0</td>\n",
       "      <td>533834.0</td>\n",
       "      <td>493800.0</td>\n",
       "      <td>6914.0</td>\n",
       "      <td>0.0</td>\n",
       "      <td>0.0</td>\n",
       "    </tr>\n",
       "    <tr>\n",
       "      <th>2</th>\n",
       "      <td>pos</td>\n",
       "      <td>72504</td>\n",
       "      <td>NaN</td>\n",
       "      <td>1.594000e+03</td>\n",
       "      <td>1052.0</td>\n",
       "      <td>0.0</td>\n",
       "      <td>0.0</td>\n",
       "      <td>0.0</td>\n",
       "      <td>244.0</td>\n",
       "      <td>178226.0</td>\n",
       "      <td>...</td>\n",
       "      <td>1432098.0</td>\n",
       "      <td>372252.0</td>\n",
       "      <td>527514.0</td>\n",
       "      <td>358274.0</td>\n",
       "      <td>332818.0</td>\n",
       "      <td>284178.0</td>\n",
       "      <td>3742.0</td>\n",
       "      <td>0.0</td>\n",
       "      <td>0.0</td>\n",
       "      <td>0.0</td>\n",
       "    </tr>\n",
       "    <tr>\n",
       "      <th>3</th>\n",
       "      <td>pos</td>\n",
       "      <td>762958</td>\n",
       "      <td>NaN</td>\n",
       "      <td>NaN</td>\n",
       "      <td>NaN</td>\n",
       "      <td>NaN</td>\n",
       "      <td>NaN</td>\n",
       "      <td>776.0</td>\n",
       "      <td>281128.0</td>\n",
       "      <td>2186308.0</td>\n",
       "      <td>...</td>\n",
       "      <td>NaN</td>\n",
       "      <td>NaN</td>\n",
       "      <td>NaN</td>\n",
       "      <td>NaN</td>\n",
       "      <td>NaN</td>\n",
       "      <td>NaN</td>\n",
       "      <td>NaN</td>\n",
       "      <td>NaN</td>\n",
       "      <td>NaN</td>\n",
       "      <td>NaN</td>\n",
       "    </tr>\n",
       "    <tr>\n",
       "      <th>4</th>\n",
       "      <td>pos</td>\n",
       "      <td>695994</td>\n",
       "      <td>NaN</td>\n",
       "      <td>NaN</td>\n",
       "      <td>NaN</td>\n",
       "      <td>NaN</td>\n",
       "      <td>NaN</td>\n",
       "      <td>0.0</td>\n",
       "      <td>0.0</td>\n",
       "      <td>0.0</td>\n",
       "      <td>...</td>\n",
       "      <td>1397742.0</td>\n",
       "      <td>495544.0</td>\n",
       "      <td>361646.0</td>\n",
       "      <td>28610.0</td>\n",
       "      <td>5130.0</td>\n",
       "      <td>212.0</td>\n",
       "      <td>0.0</td>\n",
       "      <td>0.0</td>\n",
       "      <td>NaN</td>\n",
       "      <td>NaN</td>\n",
       "    </tr>\n",
       "    <tr>\n",
       "      <th>...</th>\n",
       "      <td>...</td>\n",
       "      <td>...</td>\n",
       "      <td>...</td>\n",
       "      <td>...</td>\n",
       "      <td>...</td>\n",
       "      <td>...</td>\n",
       "      <td>...</td>\n",
       "      <td>...</td>\n",
       "      <td>...</td>\n",
       "      <td>...</td>\n",
       "      <td>...</td>\n",
       "      <td>...</td>\n",
       "      <td>...</td>\n",
       "      <td>...</td>\n",
       "      <td>...</td>\n",
       "      <td>...</td>\n",
       "      <td>...</td>\n",
       "      <td>...</td>\n",
       "      <td>...</td>\n",
       "      <td>...</td>\n",
       "      <td>...</td>\n",
       "    </tr>\n",
       "    <tr>\n",
       "      <th>36183</th>\n",
       "      <td>neg</td>\n",
       "      <td>153002</td>\n",
       "      <td>NaN</td>\n",
       "      <td>6.640000e+02</td>\n",
       "      <td>186.0</td>\n",
       "      <td>0.0</td>\n",
       "      <td>0.0</td>\n",
       "      <td>0.0</td>\n",
       "      <td>0.0</td>\n",
       "      <td>0.0</td>\n",
       "      <td>...</td>\n",
       "      <td>998500.0</td>\n",
       "      <td>566884.0</td>\n",
       "      <td>1290398.0</td>\n",
       "      <td>1218244.0</td>\n",
       "      <td>1019768.0</td>\n",
       "      <td>717762.0</td>\n",
       "      <td>898642.0</td>\n",
       "      <td>28588.0</td>\n",
       "      <td>0.0</td>\n",
       "      <td>0.0</td>\n",
       "    </tr>\n",
       "    <tr>\n",
       "      <th>36184</th>\n",
       "      <td>neg</td>\n",
       "      <td>2286</td>\n",
       "      <td>NaN</td>\n",
       "      <td>2.130707e+09</td>\n",
       "      <td>224.0</td>\n",
       "      <td>0.0</td>\n",
       "      <td>0.0</td>\n",
       "      <td>0.0</td>\n",
       "      <td>0.0</td>\n",
       "      <td>0.0</td>\n",
       "      <td>...</td>\n",
       "      <td>10578.0</td>\n",
       "      <td>6760.0</td>\n",
       "      <td>21126.0</td>\n",
       "      <td>68424.0</td>\n",
       "      <td>136.0</td>\n",
       "      <td>0.0</td>\n",
       "      <td>0.0</td>\n",
       "      <td>0.0</td>\n",
       "      <td>0.0</td>\n",
       "      <td>0.0</td>\n",
       "    </tr>\n",
       "    <tr>\n",
       "      <th>36185</th>\n",
       "      <td>neg</td>\n",
       "      <td>112</td>\n",
       "      <td>0.0</td>\n",
       "      <td>2.130706e+09</td>\n",
       "      <td>18.0</td>\n",
       "      <td>0.0</td>\n",
       "      <td>0.0</td>\n",
       "      <td>0.0</td>\n",
       "      <td>0.0</td>\n",
       "      <td>0.0</td>\n",
       "      <td>...</td>\n",
       "      <td>792.0</td>\n",
       "      <td>386.0</td>\n",
       "      <td>452.0</td>\n",
       "      <td>144.0</td>\n",
       "      <td>146.0</td>\n",
       "      <td>2622.0</td>\n",
       "      <td>0.0</td>\n",
       "      <td>0.0</td>\n",
       "      <td>0.0</td>\n",
       "      <td>0.0</td>\n",
       "    </tr>\n",
       "    <tr>\n",
       "      <th>36186</th>\n",
       "      <td>neg</td>\n",
       "      <td>80292</td>\n",
       "      <td>NaN</td>\n",
       "      <td>2.130706e+09</td>\n",
       "      <td>494.0</td>\n",
       "      <td>0.0</td>\n",
       "      <td>0.0</td>\n",
       "      <td>0.0</td>\n",
       "      <td>0.0</td>\n",
       "      <td>0.0</td>\n",
       "      <td>...</td>\n",
       "      <td>699352.0</td>\n",
       "      <td>222654.0</td>\n",
       "      <td>347378.0</td>\n",
       "      <td>225724.0</td>\n",
       "      <td>194440.0</td>\n",
       "      <td>165070.0</td>\n",
       "      <td>802280.0</td>\n",
       "      <td>388422.0</td>\n",
       "      <td>0.0</td>\n",
       "      <td>0.0</td>\n",
       "    </tr>\n",
       "    <tr>\n",
       "      <th>36187</th>\n",
       "      <td>neg</td>\n",
       "      <td>40222</td>\n",
       "      <td>NaN</td>\n",
       "      <td>6.980000e+02</td>\n",
       "      <td>628.0</td>\n",
       "      <td>0.0</td>\n",
       "      <td>0.0</td>\n",
       "      <td>0.0</td>\n",
       "      <td>0.0</td>\n",
       "      <td>0.0</td>\n",
       "      <td>...</td>\n",
       "      <td>440066.0</td>\n",
       "      <td>183200.0</td>\n",
       "      <td>344546.0</td>\n",
       "      <td>254068.0</td>\n",
       "      <td>225148.0</td>\n",
       "      <td>158304.0</td>\n",
       "      <td>170384.0</td>\n",
       "      <td>158.0</td>\n",
       "      <td>0.0</td>\n",
       "      <td>0.0</td>\n",
       "    </tr>\n",
       "  </tbody>\n",
       "</table>\n",
       "<p>36188 rows × 171 columns</p>\n",
       "</div>"
      ],
      "text/plain": [
       "      class  aa_000  ab_000        ac_000  ad_000  ae_000  af_000  ag_000  \\\n",
       "0       pos  153204     0.0  1.820000e+02     NaN     0.0     0.0     0.0   \n",
       "1       pos  453236     NaN  2.926000e+03     NaN     0.0     0.0     0.0   \n",
       "2       pos   72504     NaN  1.594000e+03  1052.0     0.0     0.0     0.0   \n",
       "3       pos  762958     NaN           NaN     NaN     NaN     NaN   776.0   \n",
       "4       pos  695994     NaN           NaN     NaN     NaN     NaN     0.0   \n",
       "...     ...     ...     ...           ...     ...     ...     ...     ...   \n",
       "36183   neg  153002     NaN  6.640000e+02   186.0     0.0     0.0     0.0   \n",
       "36184   neg    2286     NaN  2.130707e+09   224.0     0.0     0.0     0.0   \n",
       "36185   neg     112     0.0  2.130706e+09    18.0     0.0     0.0     0.0   \n",
       "36186   neg   80292     NaN  2.130706e+09   494.0     0.0     0.0     0.0   \n",
       "36187   neg   40222     NaN  6.980000e+02   628.0     0.0     0.0     0.0   \n",
       "\n",
       "         ag_001     ag_002  ...     ee_002     ee_003     ee_004     ee_005  \\\n",
       "0           0.0        0.0  ...   129862.0    26872.0    34044.0    22472.0   \n",
       "1           0.0      222.0  ...  7908038.0  3026002.0  5025350.0  2025766.0   \n",
       "2         244.0   178226.0  ...  1432098.0   372252.0   527514.0   358274.0   \n",
       "3      281128.0  2186308.0  ...        NaN        NaN        NaN        NaN   \n",
       "4           0.0        0.0  ...  1397742.0   495544.0   361646.0    28610.0   \n",
       "...         ...        ...  ...        ...        ...        ...        ...   \n",
       "36183       0.0        0.0  ...   998500.0   566884.0  1290398.0  1218244.0   \n",
       "36184       0.0        0.0  ...    10578.0     6760.0    21126.0    68424.0   \n",
       "36185       0.0        0.0  ...      792.0      386.0      452.0      144.0   \n",
       "36186       0.0        0.0  ...   699352.0   222654.0   347378.0   225724.0   \n",
       "36187       0.0        0.0  ...   440066.0   183200.0   344546.0   254068.0   \n",
       "\n",
       "          ee_006    ee_007    ee_008    ee_009  ef_000  eg_000  \n",
       "0        34362.0       0.0       0.0       0.0     0.0     0.0  \n",
       "1      1160638.0  533834.0  493800.0    6914.0     0.0     0.0  \n",
       "2       332818.0  284178.0    3742.0       0.0     0.0     0.0  \n",
       "3            NaN       NaN       NaN       NaN     NaN     NaN  \n",
       "4         5130.0     212.0       0.0       0.0     NaN     NaN  \n",
       "...          ...       ...       ...       ...     ...     ...  \n",
       "36183  1019768.0  717762.0  898642.0   28588.0     0.0     0.0  \n",
       "36184      136.0       0.0       0.0       0.0     0.0     0.0  \n",
       "36185      146.0    2622.0       0.0       0.0     0.0     0.0  \n",
       "36186   194440.0  165070.0  802280.0  388422.0     0.0     0.0  \n",
       "36187   225148.0  158304.0  170384.0     158.0     0.0     0.0  \n",
       "\n",
       "[36188 rows x 171 columns]"
      ]
     },
     "execution_count": 2,
     "metadata": {},
     "output_type": "execute_result"
    }
   ],
   "source": [
    "df=pd.read_csv(\"train.csv\",na_values=\"na\")\n",
    "df"
   ]
  },
  {
   "cell_type": "code",
   "execution_count": 3,
   "id": "d05d61b2-21f9-4306-83d6-c33e93a5674c",
   "metadata": {},
   "outputs": [
    {
     "data": {
      "text/plain": [
       "class         0\n",
       "aa_000        0\n",
       "ab_000    27896\n",
       "ac_000     2141\n",
       "ad_000     9200\n",
       "          ...  \n",
       "ee_007      379\n",
       "ee_008      379\n",
       "ee_009      379\n",
       "ef_000     1730\n",
       "eg_000     1729\n",
       "Length: 171, dtype: int64"
      ]
     },
     "execution_count": 3,
     "metadata": {},
     "output_type": "execute_result"
    }
   ],
   "source": [
    "df.isnull().sum()"
   ]
  },
  {
   "cell_type": "code",
   "execution_count": 4,
   "id": "597703d0-36ee-4041-b8d3-de574a03c131",
   "metadata": {},
   "outputs": [
    {
     "data": {
      "text/plain": [
       "(36188, 171)"
      ]
     },
     "execution_count": 4,
     "metadata": {},
     "output_type": "execute_result"
    }
   ],
   "source": [
    "df.shape"
   ]
  },
  {
   "cell_type": "code",
   "execution_count": 5,
   "id": "b80d67fe-b52d-4112-882a-d8b08a2c1908",
   "metadata": {},
   "outputs": [
    {
     "data": {
      "text/plain": [
       "class\n",
       "neg    35188\n",
       "pos     1000\n",
       "Name: count, dtype: int64"
      ]
     },
     "execution_count": 5,
     "metadata": {},
     "output_type": "execute_result"
    }
   ],
   "source": [
    "# how many positive and negative\n",
    "df['class'].value_counts()"
   ]
  },
  {
   "cell_type": "code",
   "execution_count": 6,
   "id": "75711517-ca6b-4197-a9f8-53078c4f0938",
   "metadata": {},
   "outputs": [],
   "source": [
    "# problem 1- imbalance data\n",
    "# problem 2- null values"
   ]
  },
  {
   "cell_type": "code",
   "execution_count": 7,
   "id": "158dfa0e-6236-4ae4-915b-31d28c550713",
   "metadata": {},
   "outputs": [],
   "source": [
    "# write a code to display total number of numerical values and catergrical columns"
   ]
  },
  {
   "cell_type": "code",
   "execution_count": 8,
   "id": "8e993123-2532-45fe-a78d-e63bddba971c",
   "metadata": {},
   "outputs": [
    {
     "name": "stdout",
     "output_type": "stream",
     "text": [
      "<class 'pandas.core.frame.DataFrame'>\n",
      "RangeIndex: 36188 entries, 0 to 36187\n",
      "Columns: 171 entries, class to eg_000\n",
      "dtypes: float64(169), int64(1), object(1)\n",
      "memory usage: 47.2+ MB\n"
     ]
    }
   ],
   "source": [
    "df.info()"
   ]
  },
  {
   "cell_type": "code",
   "execution_count": 9,
   "id": "764a9923-fad8-4867-91db-5ff40c0bd23a",
   "metadata": {},
   "outputs": [
    {
     "name": "stdout",
     "output_type": "stream",
     "text": [
      "we have 170 columns :['aa_000', 'ab_000', 'ac_000', 'ad_000', 'ae_000', 'af_000', 'ag_000', 'ag_001', 'ag_002', 'ag_003', 'ag_004', 'ag_005', 'ag_006', 'ag_007', 'ag_008', 'ag_009', 'ah_000', 'ai_000', 'aj_000', 'ak_000', 'al_000', 'am_0', 'an_000', 'ao_000', 'ap_000', 'aq_000', 'ar_000', 'as_000', 'at_000', 'au_000', 'av_000', 'ax_000', 'ay_000', 'ay_001', 'ay_002', 'ay_003', 'ay_004', 'ay_005', 'ay_006', 'ay_007', 'ay_008', 'ay_009', 'az_000', 'az_001', 'az_002', 'az_003', 'az_004', 'az_005', 'az_006', 'az_007', 'az_008', 'az_009', 'ba_000', 'ba_001', 'ba_002', 'ba_003', 'ba_004', 'ba_005', 'ba_006', 'ba_007', 'ba_008', 'ba_009', 'bb_000', 'bc_000', 'bd_000', 'be_000', 'bf_000', 'bg_000', 'bh_000', 'bi_000', 'bj_000', 'bk_000', 'bl_000', 'bm_000', 'bn_000', 'bo_000', 'bp_000', 'bq_000', 'br_000', 'bs_000', 'bt_000', 'bu_000', 'bv_000', 'bx_000', 'by_000', 'bz_000', 'ca_000', 'cb_000', 'cc_000', 'cd_000', 'ce_000', 'cf_000', 'cg_000', 'ch_000', 'ci_000', 'cj_000', 'ck_000', 'cl_000', 'cm_000', 'cn_000', 'cn_001', 'cn_002', 'cn_003', 'cn_004', 'cn_005', 'cn_006', 'cn_007', 'cn_008', 'cn_009', 'co_000', 'cp_000', 'cq_000', 'cr_000', 'cs_000', 'cs_001', 'cs_002', 'cs_003', 'cs_004', 'cs_005', 'cs_006', 'cs_007', 'cs_008', 'cs_009', 'ct_000', 'cu_000', 'cv_000', 'cx_000', 'cy_000', 'cz_000', 'da_000', 'db_000', 'dc_000', 'dd_000', 'de_000', 'df_000', 'dg_000', 'dh_000', 'di_000', 'dj_000', 'dk_000', 'dl_000', 'dm_000', 'dn_000', 'do_000', 'dp_000', 'dq_000', 'dr_000', 'ds_000', 'dt_000', 'du_000', 'dv_000', 'dx_000', 'dy_000', 'dz_000', 'ea_000', 'eb_000', 'ec_00', 'ed_000', 'ee_000', 'ee_001', 'ee_002', 'ee_003', 'ee_004', 'ee_005', 'ee_006', 'ee_007', 'ee_008', 'ee_009', 'ef_000', 'eg_000']\n",
      "we have 1 columns : ['class']\n"
     ]
    }
   ],
   "source": [
    "numerical_feature=[feature for feature in df.columns if df[feature].dtype != 'O']\n",
    "cat_feature=[feature for feature in df.columns if df[feature].dtype=='O']\n",
    "print(f'we have {len(numerical_feature)} columns :{numerical_feature}')\n",
    "print(f'we have {len(cat_feature)} columns : {cat_feature}')"
   ]
  },
  {
   "cell_type": "code",
   "execution_count": 10,
   "id": "d5486342-6149-4b51-bf67-0e5e1b874567",
   "metadata": {},
   "outputs": [
    {
     "data": {
      "text/plain": [
       "class         0\n",
       "aa_000        0\n",
       "ab_000    27896\n",
       "ac_000     2141\n",
       "ad_000     9200\n",
       "          ...  \n",
       "ee_007      379\n",
       "ee_008      379\n",
       "ee_009      379\n",
       "ef_000     1730\n",
       "eg_000     1729\n",
       "Length: 171, dtype: int64"
      ]
     },
     "execution_count": 10,
     "metadata": {},
     "output_type": "execute_result"
    }
   ],
   "source": [
    "# checking the missing columns\n",
    "df.isnull().sum()"
   ]
  },
  {
   "cell_type": "code",
   "execution_count": 11,
   "id": "0b98a893-e73c-4c36-80e6-eaa9cab9d238",
   "metadata": {},
   "outputs": [
    {
     "data": {
      "image/png": "[encoded data removed]",
      "text/plain": [
       "<Figure size 1500x800 with 1 Axes>"
      ]
     },
     "metadata": {},
     "output_type": "display_data"
    }
   ],
   "source": [
    "# task -show me percentage of missing values of each colmuns\n",
    "import matplotlib.pyplot as plt\n",
    "import seaborn as sns\n",
    "fig,ax=plt.subplots(figsize=(15,8))\n",
    "missing=(df.isnull().sum()*100/df.shape[0]).to_frame().sort_values(by=0,ascending=False)\n",
    "ax.bar(missing.index,missing.values.T[0])\n",
    "plt.xticks([])\n",
    "plt.ylabel(\"percentage missing\")\n",
    "plt.show()"
   ]
  },
  {
   "cell_type": "code",
   "execution_count": 12,
   "id": "c074aa07-113b-48b0-bf42-1de233ecd755",
   "metadata": {},
   "outputs": [],
   "source": [
    "# thumb rule\n",
    "#- 70% missing data -delete that columns"
   ]
  },
  {
   "cell_type": "code",
   "execution_count": 13,
   "id": "9d3b532c-b715-4531-9366-9cdc8166108b",
   "metadata": {},
   "outputs": [
    {
     "data": {
      "text/html": [
       "<div>\n",
       "<style scoped>\n",
       "    .dataframe tbody tr th:only-of-type {\n",
       "        vertical-align: middle;\n",
       "    }\n",
       "\n",
       "    .dataframe tbody tr th {\n",
       "        vertical-align: top;\n",
       "    }\n",
       "\n",
       "    .dataframe thead th {\n",
       "        text-align: right;\n",
       "    }\n",
       "</style>\n",
       "<table border=\"1\" class=\"dataframe\">\n",
       "  <thead>\n",
       "    <tr style=\"text-align: right;\">\n",
       "      <th></th>\n",
       "      <th>0</th>\n",
       "    </tr>\n",
       "  </thead>\n",
       "  <tbody>\n",
       "    <tr>\n",
       "      <th>br_000</th>\n",
       "      <td>81.410965</td>\n",
       "    </tr>\n",
       "    <tr>\n",
       "      <th>bq_000</th>\n",
       "      <td>80.501824</td>\n",
       "    </tr>\n",
       "    <tr>\n",
       "      <th>bp_000</th>\n",
       "      <td>78.794075</td>\n",
       "    </tr>\n",
       "    <tr>\n",
       "      <th>ab_000</th>\n",
       "      <td>77.086327</td>\n",
       "    </tr>\n",
       "    <tr>\n",
       "      <th>cr_000</th>\n",
       "      <td>77.086327</td>\n",
       "    </tr>\n",
       "    <tr>\n",
       "      <th>bo_000</th>\n",
       "      <td>76.533658</td>\n",
       "    </tr>\n",
       "    <tr>\n",
       "      <th>bn_000</th>\n",
       "      <td>72.761689</td>\n",
       "    </tr>\n",
       "  </tbody>\n",
       "</table>\n",
       "</div>"
      ],
      "text/plain": [
       "                0\n",
       "br_000  81.410965\n",
       "bq_000  80.501824\n",
       "bp_000  78.794075\n",
       "ab_000  77.086327\n",
       "cr_000  77.086327\n",
       "bo_000  76.533658\n",
       "bn_000  72.761689"
      ]
     },
     "execution_count": 13,
     "metadata": {},
     "output_type": "execute_result"
    }
   ],
   "source": [
    "dropcols=missing[missing[0]>70]\n",
    "dropcols"
   ]
  },
  {
   "cell_type": "code",
   "execution_count": 14,
   "id": "b047e156-d17e-430c-b706-154ee18e7a69",
   "metadata": {},
   "outputs": [],
   "source": [
    "# dropping the columns from main dataset\n",
    "df.drop(list(dropcols.index), axis=1, inplace=True)"
   ]
  },
  {
   "cell_type": "code",
   "execution_count": 15,
   "id": "dd279fe3-0397-4941-b8bc-3459cfaa1780",
   "metadata": {},
   "outputs": [
    {
     "data": {
      "text/plain": [
       "(36188, 164)"
      ]
     },
     "execution_count": 15,
     "metadata": {},
     "output_type": "execute_result"
    }
   ],
   "source": [
    "df.shape"
   ]
  },
  {
   "cell_type": "code",
   "execution_count": 16,
   "id": "73669b8b-6a9d-4df5-b6db-bb1dfa238f29",
   "metadata": {},
   "outputs": [
    {
     "name": "stdout",
     "output_type": "stream",
     "text": [
      "percentage of missing data entire data set 5.370598527473061 %\n"
     ]
    }
   ],
   "source": [
    "# find out total missing value of dataset\n",
    "missing_value_count=df.isnull().sum()\n",
    "total_cell=np.product(df.shape)\n",
    "total_missing=missing_value_count.sum()\n",
    "print(f'percentage of missing data entire data set {total_missing*100/total_cell} %')"
   ]
  },
  {
   "cell_type": "code",
   "execution_count": 17,
   "id": "8bebf690-39d5-4259-af0d-ab324af0afc3",
   "metadata": {},
   "outputs": [],
   "source": [
    "# task\n",
    "# imbalance data\n",
    "# how can we balance data the imbalance data"
   ]
  },
  {
   "cell_type": "code",
   "execution_count": 18,
   "id": "1e3cf37c-21bb-48fb-8dd8-ead7aaf9c1f6",
   "metadata": {},
   "outputs": [
    {
     "name": "stdout",
     "output_type": "stream",
     "text": [
      "1000 35188\n"
     ]
    },
    {
     "data": {
      "text/plain": [
       "<seaborn.axisgrid.FacetGrid at 0x1da15c61690>"
      ]
     },
     "execution_count": 18,
     "metadata": {},
     "output_type": "execute_result"
    },
    {
     "data": {
      "image/png": "[encoded data removed]",
      "text/plain": [
       "<Figure size 511.111x500 with 1 Axes>"
      ]
     },
     "metadata": {},
     "output_type": "display_data"
    }
   ],
   "source": [
    "pos=df[df['class']=='pos'].shape[0]\n",
    "neg=df[df['class']=='neg'].shape[0]\n",
    "print(pos,neg)\n",
    "sns.catplot(data=df,x='class',kind='count')"
   ]
  },
  {
   "cell_type": "code",
   "execution_count": 19,
   "id": "f1366c7b-a39f-4b03-ace1-e0b8fa3e5c48",
   "metadata": {},
   "outputs": [],
   "source": [
    "# splitting data\n",
    "x=df.drop('class',axis=1)\n",
    "y=df['class']"
   ]
  },
  {
   "cell_type": "code",
   "execution_count": 20,
   "id": "b62d5fb6-ab9b-4dc4-8975-a562d1e69629",
   "metadata": {},
   "outputs": [
    {
     "data": {
      "text/plain": [
       "0        pos\n",
       "1        pos\n",
       "2        pos\n",
       "3        pos\n",
       "4        pos\n",
       "        ... \n",
       "36183    neg\n",
       "36184    neg\n",
       "36185    neg\n",
       "36186    neg\n",
       "36187    neg\n",
       "Name: class, Length: 36188, dtype: object"
      ]
     },
     "execution_count": 20,
     "metadata": {},
     "output_type": "execute_result"
    }
   ],
   "source": [
    "y"
   ]
  },
  {
   "cell_type": "code",
   "execution_count": 21,
   "id": "7a87be97-7681-4a53-932a-9088ce6cd28b",
   "metadata": {},
   "outputs": [
    {
     "data": {
      "text/plain": [
       "0        1\n",
       "1        1\n",
       "2        1\n",
       "3        1\n",
       "4        1\n",
       "        ..\n",
       "36183    0\n",
       "36184    0\n",
       "36185    0\n",
       "36186    0\n",
       "36187    0\n",
       "Name: class, Length: 36188, dtype: int64"
      ]
     },
     "execution_count": 21,
     "metadata": {},
     "output_type": "execute_result"
    }
   ],
   "source": [
    "y=y.replace({'pos':1,'neg':0})\n",
    "y"
   ]
  },
  {
   "cell_type": "code",
   "execution_count": 22,
   "id": "866a2e9e-7f2b-42bd-af4a-246640830f07",
   "metadata": {},
   "outputs": [],
   "source": [
    "from sklearn.preprocessing import StandardScaler, MinMaxScaler, RobustScaler\n",
    "\n",
    "robust_scaler = RobustScaler()\n",
    "X1 = robust_scaler.fit_transform(x)\n",
    "\n",
    "from sklearn.impute import KNNImputer,SimpleImputer\n",
    "from sklearn.pipeline import Pipeline\n",
    "from sklearn.linear_model import LogisticRegression\n",
    "from sklearn.model_selection import cross_val_score\n",
    "from statistics import mean "
   ]
  },
  {
   "cell_type": "code",
   "execution_count": 23,
   "id": "81b9044f-5ae4-4bbb-8928-82748864cfb3",
   "metadata": {},
   "outputs": [
    {
     "name": "stdout",
     "output_type": "stream",
     "text": [
      "n_neighbours = 2 || accuracy = 0.7287774953023102\n",
      "n_neighbours = 3 || accuracy = 0.7357411296562396\n"
     ]
    }
   ],
   "source": [
    "  results = []\n",
    "neig_knn = [2,3]\n",
    "for k in neig_knn:\n",
    "    pipeline = Pipeline(steps=[(\"imputer\", KNNImputer(n_neighbors=k)),\n",
    "                               (\"model\", LogisticRegression())])\n",
    "    scores = cross_val_score(pipeline, X1, y, scoring=\"accuracy\", cv=2, n_jobs=-1)\n",
    "    results.append(scores)\n",
    "    print(f\"n_neighbours = {k} || accuracy = {mean(scores)}\")\n"
   ]
  },
  {
   "cell_type": "code",
   "execution_count": 24,
   "id": "9cfedf13-b497-408d-aa8a-933f2fb3176d",
   "metadata": {},
   "outputs": [],
   "source": [
    "# pipeline for KNN imputer with Robust scaler\n",
    "knn_pipeline = Pipeline(steps=[\n",
    "    (\"imputer\", KNNImputer(n_neighbors=3)),\n",
    "    (\"Robust\", RobustScaler())\n",
    "])"
   ]
  },
  {
   "cell_type": "code",
   "execution_count": 25,
   "id": "87dda320-6207-4384-a4f0-4decff9253ea",
   "metadata": {},
   "outputs": [],
   "source": [
    "X_knn = knn_pipeline.fit_transform(x)"
   ]
  },
  {
   "cell_type": "code",
   "execution_count": 26,
   "id": "7f0edf2f-dda1-4421-9517-17ba75178d9b",
   "metadata": {},
   "outputs": [],
   "source": [
    "# balance the data\n",
    "from imblearn.combine import SMOTETomek\n",
    "\n",
    "smt = SMOTETomek(random_state=101, sampling_strategy=\"minority\")\n",
    "X_res, y_res = smt.fit_resample(X_knn, y)"
   ]
  },
  {
   "cell_type": "code",
   "execution_count": 27,
   "id": "dd39f857-33cd-4726-9bd7-bc602a04023c",
   "metadata": {},
   "outputs": [
    {
     "name": "stdout",
     "output_type": "stream",
     "text": [
      "Defaulting to user installation because normal site-packages is not writeableNote: you may need to restart the kernel to use updated packages.\n",
      "\n",
      "Requirement already satisfied: xgboost in c:\\users\\lenovo\\appdata\\roaming\\python\\python311\\site-packages (2.1.1)\n",
      "Requirement already satisfied: numpy in c:\\programdata\\anaconda3\\lib\\site-packages (from xgboost) (1.26.4)\n",
      "Requirement already satisfied: scipy in c:\\programdata\\anaconda3\\lib\\site-packages (from xgboost) (1.11.4)\n"
     ]
    }
   ],
   "source": [
    "pip install xgboost"
   ]
  },
  {
   "cell_type": "code",
   "execution_count": 28,
   "id": "0a70d5ae-3220-4ba7-b8cb-a370ec6e6bd6",
   "metadata": {},
   "outputs": [
    {
     "name": "stdout",
     "output_type": "stream",
     "text": [
      "Defaulting to user installation because normal site-packages is not writeable\n",
      "Requirement already satisfied: scikit-learn in c:\\users\\lenovo\\appdata\\roaming\\python\\python311\\site-packages (1.4.2)\n",
      "Requirement already satisfied: numpy>=1.19.5 in c:\\programdata\\anaconda3\\lib\\site-packages (from scikit-learn) (1.26.4)\n",
      "Requirement already satisfied: scipy>=1.6.0 in c:\\programdata\\anaconda3\\lib\\site-packages (from scikit-learn) (1.11.4)\n",
      "Requirement already satisfied: joblib>=1.2.0 in c:\\programdata\\anaconda3\\lib\\site-packages (from scikit-learn) (1.2.0)\n",
      "Requirement already satisfied: threadpoolctl>=2.0.0 in c:\\programdata\\anaconda3\\lib\\site-packages (from scikit-learn) (2.2.0)\n",
      "Note: you may need to restart the kernel to use updated packages.\n"
     ]
    }
   ],
   "source": [
    "pip install scikit-learn"
   ]
  },
  {
   "cell_type": "code",
   "execution_count": 29,
   "id": "8735e5d3-56c0-436e-8ae2-9cb676601514",
   "metadata": {},
   "outputs": [],
   "source": [
    "from sklearn.ensemble import RandomForestClassifier\n",
    "from sklearn.tree import DecisionTreeClassifier\n",
    "from xgboost import XGBClassifier\n",
    "from sklearn.neighbors import KNeighborsClassifier\n",
    "from sklearn.linear_model import LogisticRegression"
   ]
  },
  {
   "cell_type": "code",
   "execution_count": 30,
   "id": "e597ef01-2ba7-46f5-a60e-99b9208fa3c0",
   "metadata": {},
   "outputs": [],
   "source": [
    "models = {\n",
    "    \"Random forest\" : RandomForestClassifier(),\n",
    "    \"Decision tree\" : DecisionTreeClassifier(),\n",
    "    \"logisitic Regression\" : LogisticRegression(),\n",
    "    \"knn classifier\" : KNeighborsClassifier(),\n",
    "    \"xgb\" : XGBClassifier()\n",
    "}"
   ]
  },
  {
   "cell_type": "code",
   "execution_count": 31,
   "id": "e89590b9-70c0-4967-9e55-25a9c86e2152",
   "metadata": {},
   "outputs": [],
   "source": [
    "from sklearn.metrics import accuracy_score, precision_score, recall_score, f1_score, roc_auc_score, \\\n",
    "                            confusion_matrix\n",
    "\n",
    "\n",
    "def evaluate_clf(true, predicted):\n",
    "    \n",
    "    acc = accuracy_score(true, predicted)\n",
    "    f1 = f1_score(true, predicted)    \n",
    "    pre = precision_score(true, predicted)    \n",
    "    recall = recall_score(true, predicted)    \n",
    "    roc = roc_auc_score(true, predicted)  \n",
    "    \n",
    "    return acc, f1, pre, recall, roc\n",
    "def test_cost(y_true,y_pred):\n",
    "    tn,fp,fn,tp=confusion_matrix(y_true,y_pred).ravel()\n",
    "    cost=10*fp+500*fn\n",
    "    return cost"
   ]
  },
  {
   "cell_type": "code",
   "execution_count": 32,
   "id": "c81858be-eaad-430b-99f9-c78f889b0c5c",
   "metadata": {},
   "outputs": [],
   "source": [
    "from sklearn.model_selection import train_test_split\n",
    "\n",
    "\n",
    "def evaluate_model(X, y, models):\n",
    "    \n",
    "    X_train, X_test, y_train, y_test = train_test_split(X, y, test_size=0.2, random_state=101)\n",
    "    \n",
    "    cost_list = []\n",
    "    model_list = []\n",
    "    \n",
    "    for i in range(len(list(models))):\n",
    "        model = list(models.values())[i]\n",
    "        model.fit(X_train, y_train) # training the model\n",
    "        \n",
    "        # make prediction\n",
    "        y_test_pred = model.predict(X_test)\n",
    "        \n",
    "        acc, f1, pre, recall, roc = evaluate_clf(y_test, y_test_pred)\n",
    "        # calculate the cost\n",
    "        total_cost = test_cost(y_test, y_test_pred)\n",
    "        \n",
    "        print(list(models.keys())[i])\n",
    "        model_list.append(list(models.keys())[i])\n",
    "        \n",
    "        print(\"Model performance for test Set\")\n",
    "        print(f\"- Accuracy: {acc}\")\n",
    "        print(f\"- f1 score: {f1}\")        \n",
    "        print(f\"- precision score: {pre}\")        \n",
    "        print(f\"- Recall: {recall}\")        \n",
    "        print(f\"- roc: {roc}\")\n",
    "        print(f\"- total cost : {total_cost}\")\n",
    "        \n",
    "        cost_list.append(total_cost)\n",
    "        \n",
    "        print(\"=\"*35)\n",
    "        print(\"\\n\")\n",
    "    report = pd.DataFrame(list(zip(model_list, cost_list)), \n",
    "                               columns=[\"Model Name\", 'Cost']).sort_values(by=[\"Cost\"])\n",
    "                          \n",
    "    return report"
   ]
  },
  {
   "cell_type": "code",
   "execution_count": 33,
   "id": "eec97c6f-6422-407e-b3bf-b7770d8e12d3",
   "metadata": {},
   "outputs": [
    {
     "name": "stdout",
     "output_type": "stream",
     "text": [
      "Random forest\n",
      "Model performance for test Set\n",
      "- Accuracy: 0.9911605360707157\n",
      "- f1 score: 0.9912293110765313\n",
      "- precision score: 0.9874577226606539\n",
      "- Recall: 0.9950298210735586\n",
      "- roc: 0.9911450279143917\n",
      "- total cost : 18390\n",
      "===================================\n",
      "\n",
      "\n",
      "Decision tree\n",
      "Model performance for test Set\n",
      "- Accuracy: 0.9857428001140576\n",
      "- f1 score: 0.9858637263217416\n",
      "- precision score: 0.9814241486068112\n",
      "- Recall: 0.9903436523714854\n",
      "- roc: 0.9857243598244487\n",
      "- total cost : 35320\n",
      "===================================\n",
      "\n",
      "\n"
     ]
    },
    {
     "name": "stderr",
     "output_type": "stream",
     "text": [
      "C:\\Users\\lenovo\\AppData\\Roaming\\Python\\Python311\\site-packages\\sklearn\\linear_model\\_logistic.py:469: ConvergenceWarning: lbfgs failed to converge (status=1):\n",
      "STOP: TOTAL NO. of ITERATIONS REACHED LIMIT.\n",
      "\n",
      "Increase the number of iterations (max_iter) or scale the data as shown in:\n",
      "    https://scikit-learn.org/stable/modules/preprocessing.html\n",
      "Please also refer to the documentation for alternative solver options:\n",
      "    https://scikit-learn.org/stable/modules/linear_model.html#logistic-regression\n",
      "  n_iter_i = _check_optimize_result(\n"
     ]
    },
    {
     "name": "stdout",
     "output_type": "stream",
     "text": [
      "logisitic Regression\n",
      "Model performance for test Set\n",
      "- Accuracy: 0.5870402053036784\n",
      "- f1 score: 0.6938322498810845\n",
      "- precision score: 0.5525717653001094\n",
      "- Recall: 0.9321215563760296\n",
      "- roc: 0.5856571137162141\n",
      "- total cost : 292150\n",
      "===================================\n",
      "\n",
      "\n",
      "knn classifier\n",
      "Model performance for test Set\n",
      "- Accuracy: 0.9756201881950385\n",
      "- f1 score: 0.975986518747367\n",
      "- precision score: 0.9652777777777778\n",
      "- Recall: 0.9869355296790685\n",
      "- roc: 0.9755748361249623\n",
      "- total cost : 48500\n",
      "===================================\n",
      "\n",
      "\n",
      "xgb\n",
      "Model performance for test Set\n",
      "- Accuracy: 0.9954376960364985\n",
      "- f1 score: 0.9954667799971667\n",
      "- precision score: 0.9930751837196156\n",
      "- Recall: 0.9978699233172394\n",
      "- roc: 0.9954279476305637\n",
      "- total cost : 7990\n",
      "===================================\n",
      "\n",
      "\n"
     ]
    }
   ],
   "source": [
    "# Experiment-1\n",
    "report_knn=evaluate_model(X_res,y_res,models)"
   ]
  },
  {
   "cell_type": "code",
   "execution_count": 34,
   "id": "1df4c353-487e-48ca-90d1-edbbfebd5fe4",
   "metadata": {},
   "outputs": [
    {
     "data": {
      "text/html": [
       "<div>\n",
       "<style scoped>\n",
       "    .dataframe tbody tr th:only-of-type {\n",
       "        vertical-align: middle;\n",
       "    }\n",
       "\n",
       "    .dataframe tbody tr th {\n",
       "        vertical-align: top;\n",
       "    }\n",
       "\n",
       "    .dataframe thead th {\n",
       "        text-align: right;\n",
       "    }\n",
       "</style>\n",
       "<table border=\"1\" class=\"dataframe\">\n",
       "  <thead>\n",
       "    <tr style=\"text-align: right;\">\n",
       "      <th></th>\n",
       "      <th>Model Name</th>\n",
       "      <th>Cost</th>\n",
       "    </tr>\n",
       "  </thead>\n",
       "  <tbody>\n",
       "    <tr>\n",
       "      <th>4</th>\n",
       "      <td>xgb</td>\n",
       "      <td>7990</td>\n",
       "    </tr>\n",
       "    <tr>\n",
       "      <th>0</th>\n",
       "      <td>Random forest</td>\n",
       "      <td>18390</td>\n",
       "    </tr>\n",
       "    <tr>\n",
       "      <th>1</th>\n",
       "      <td>Decision tree</td>\n",
       "      <td>35320</td>\n",
       "    </tr>\n",
       "    <tr>\n",
       "      <th>3</th>\n",
       "      <td>knn classifier</td>\n",
       "      <td>48500</td>\n",
       "    </tr>\n",
       "    <tr>\n",
       "      <th>2</th>\n",
       "      <td>logisitic Regression</td>\n",
       "      <td>292150</td>\n",
       "    </tr>\n",
       "  </tbody>\n",
       "</table>\n",
       "</div>"
      ],
      "text/plain": [
       "             Model Name    Cost\n",
       "4                   xgb    7990\n",
       "0         Random forest   18390\n",
       "1         Decision tree   35320\n",
       "3        knn classifier   48500\n",
       "2  logisitic Regression  292150"
      ]
     },
     "execution_count": 34,
     "metadata": {},
     "output_type": "execute_result"
    }
   ],
   "source": [
    "report_knn"
   ]
  },
  {
   "cell_type": "code",
   "execution_count": 35,
   "id": "ec10f37a-a2dd-466d-80a8-953a9e73c771",
   "metadata": {},
   "outputs": [],
   "source": [
    "# Expertiment-2  pipeline for simple imputer with Robust scaler\n"
   ]
  },
  {
   "cell_type": "code",
   "execution_count": 36,
   "id": "091866c0-3573-4b2e-afa4-9e83a627a5a2",
   "metadata": {},
   "outputs": [],
   "source": [
    "med_pipeline = Pipeline(steps=[\n",
    "    (\"imputer\", SimpleImputer(strategy='median')),\n",
    "    (\"Robust\", RobustScaler())\n",
    "])"
   ]
  },
  {
   "cell_type": "code",
   "execution_count": 37,
   "id": "93171f63-7531-481b-8145-5592c56c1f8f",
   "metadata": {},
   "outputs": [],
   "source": [
    "X_med=med_pipeline.fit_transform(x)"
   ]
  },
  {
   "cell_type": "code",
   "execution_count": 38,
   "id": "a6eb7548-35cb-40e0-ba22-66369ca8772a",
   "metadata": {},
   "outputs": [],
   "source": [
    "# balance the data\n",
    "from imblearn.combine import SMOTETomek\n",
    "\n",
    "smt = SMOTETomek(random_state=101, sampling_strategy=\"minority\")\n",
    "X_res, y_res = smt.fit_resample(X_med, y)"
   ]
  },
  {
   "cell_type": "code",
   "execution_count": 39,
   "id": "2b84ac5d-b4f3-43c9-b725-3d5e87572f5b",
   "metadata": {},
   "outputs": [
    {
     "name": "stdout",
     "output_type": "stream",
     "text": [
      "Random forest\n",
      "Model performance for test Set\n",
      "- Accuracy: 0.991795091324201\n",
      "- f1 score: 0.9918939874533024\n",
      "- precision score: 0.9868162692847124\n",
      "- Recall: 0.9970242312597422\n",
      "- roc: 0.9917582716867759\n",
      "- total cost : 11440\n",
      "===================================\n",
      "\n",
      "\n",
      "Decision tree\n",
      "Model performance for test Set\n",
      "- Accuracy: 0.9867294520547946\n",
      "- f1 score: 0.9868810833685993\n",
      "- precision score: 0.9824462856340401\n",
      "- Recall: 0.9913561003259175\n",
      "- roc: 0.9866968747067151\n",
      "- total cost : 31750\n",
      "===================================\n",
      "\n",
      "\n"
     ]
    },
    {
     "name": "stderr",
     "output_type": "stream",
     "text": [
      "C:\\Users\\lenovo\\AppData\\Roaming\\Python\\Python311\\site-packages\\sklearn\\linear_model\\_logistic.py:469: ConvergenceWarning: lbfgs failed to converge (status=1):\n",
      "STOP: TOTAL NO. of ITERATIONS REACHED LIMIT.\n",
      "\n",
      "Increase the number of iterations (max_iter) or scale the data as shown in:\n",
      "    https://scikit-learn.org/stable/modules/preprocessing.html\n",
      "Please also refer to the documentation for alternative solver options:\n",
      "    https://scikit-learn.org/stable/modules/linear_model.html#logistic-regression\n",
      "  n_iter_i = _check_optimize_result(\n"
     ]
    },
    {
     "name": "stdout",
     "output_type": "stream",
     "text": [
      "logisitic Regression\n",
      "Model performance for test Set\n",
      "- Accuracy: 0.6221461187214612\n",
      "- f1 score: 0.709010989010989\n",
      "- precision score: 0.5790182177151575\n",
      "- Recall: 0.9142695196259033\n",
      "- roc: 0.6200892072910376\n",
      "- total cost : 349410\n",
      "===================================\n",
      "\n",
      "\n",
      "knn classifier\n",
      "Model performance for test Set\n",
      "- Accuracy: 0.970105593607306\n",
      "- f1 score: 0.9706438730470118\n",
      "- precision score: 0.959950110864745\n",
      "- Recall: 0.9815785744650701\n",
      "- roc: 0.9700248095776995\n",
      "- total cost : 67890\n",
      "===================================\n",
      "\n",
      "\n",
      "xgb\n",
      "Model performance for test Set\n",
      "- Accuracy: 0.9965753424657534\n",
      "- f1 score: 0.9966096906342704\n",
      "- precision score: 0.9935220391494156\n",
      "- Recall: 0.9997165934533088\n",
      "- roc: 0.9965532241587566\n",
      "- total cost : 1460\n",
      "===================================\n",
      "\n",
      "\n"
     ]
    }
   ],
   "source": [
    "report_med=evaluate_model(X_res,y_res,models)"
   ]
  },
  {
   "cell_type": "code",
   "execution_count": 40,
   "id": "0fedab26-1d3b-4bbc-aa6f-74c0dd33d78f",
   "metadata": {},
   "outputs": [
    {
     "data": {
      "text/html": [
       "<div>\n",
       "<style scoped>\n",
       "    .dataframe tbody tr th:only-of-type {\n",
       "        vertical-align: middle;\n",
       "    }\n",
       "\n",
       "    .dataframe tbody tr th {\n",
       "        vertical-align: top;\n",
       "    }\n",
       "\n",
       "    .dataframe thead th {\n",
       "        text-align: right;\n",
       "    }\n",
       "</style>\n",
       "<table border=\"1\" class=\"dataframe\">\n",
       "  <thead>\n",
       "    <tr style=\"text-align: right;\">\n",
       "      <th></th>\n",
       "      <th>Model Name</th>\n",
       "      <th>Cost</th>\n",
       "    </tr>\n",
       "  </thead>\n",
       "  <tbody>\n",
       "    <tr>\n",
       "      <th>4</th>\n",
       "      <td>xgb</td>\n",
       "      <td>1460</td>\n",
       "    </tr>\n",
       "    <tr>\n",
       "      <th>0</th>\n",
       "      <td>Random forest</td>\n",
       "      <td>11440</td>\n",
       "    </tr>\n",
       "    <tr>\n",
       "      <th>1</th>\n",
       "      <td>Decision tree</td>\n",
       "      <td>31750</td>\n",
       "    </tr>\n",
       "    <tr>\n",
       "      <th>3</th>\n",
       "      <td>knn classifier</td>\n",
       "      <td>67890</td>\n",
       "    </tr>\n",
       "    <tr>\n",
       "      <th>2</th>\n",
       "      <td>logisitic Regression</td>\n",
       "      <td>349410</td>\n",
       "    </tr>\n",
       "  </tbody>\n",
       "</table>\n",
       "</div>"
      ],
      "text/plain": [
       "             Model Name    Cost\n",
       "4                   xgb    1460\n",
       "0         Random forest   11440\n",
       "1         Decision tree   31750\n",
       "3        knn classifier   67890\n",
       "2  logisitic Regression  349410"
      ]
     },
     "execution_count": 40,
     "metadata": {},
     "output_type": "execute_result"
    }
   ],
   "source": [
    "report_med"
   ]
  },
  {
   "cell_type": "code",
   "execution_count": 41,
   "id": "087913e1-0947-49ca-b28e-db81c5ed2ea5",
   "metadata": {},
   "outputs": [
    {
     "name": "stdout",
     "output_type": "stream",
     "text": [
      "Random forest\n",
      "Model performance for test Set\n",
      "- Accuracy: 0.99244745279658\n",
      "- f1 score: 0.9924961064703384\n",
      "- precision score: 0.9869069407292693\n",
      "- Recall: 0.9981489391997722\n",
      "- roc: 0.9924429807236738\n",
      "- total cost : 7430\n",
      "===================================\n",
      "\n",
      "\n",
      "Decision tree\n",
      "Model performance for test Set\n",
      "- Accuracy: 0.985393658710367\n",
      "- f1 score: 0.985478501097967\n",
      "- precision score: 0.9805469410769665\n",
      "- Recall: 0.9904599174142105\n",
      "- roc: 0.9853896848907903\n",
      "- total cost : 34880\n",
      "===================================\n",
      "\n",
      "\n"
     ]
    },
    {
     "name": "stderr",
     "output_type": "stream",
     "text": [
      "C:\\Users\\lenovo\\AppData\\Roaming\\Python\\Python311\\site-packages\\sklearn\\linear_model\\_logistic.py:469: ConvergenceWarning: lbfgs failed to converge (status=1):\n",
      "STOP: TOTAL NO. of ITERATIONS REACHED LIMIT.\n",
      "\n",
      "Increase the number of iterations (max_iter) or scale the data as shown in:\n",
      "    https://scikit-learn.org/stable/modules/preprocessing.html\n",
      "Please also refer to the documentation for alternative solver options:\n",
      "    https://scikit-learn.org/stable/modules/linear_model.html#logistic-regression\n",
      "  n_iter_i = _check_optimize_result(\n"
     ]
    },
    {
     "name": "stdout",
     "output_type": "stream",
     "text": [
      "logisitic Regression\n",
      "Model performance for test Set\n",
      "- Accuracy: 0.6684716779479871\n",
      "- f1 score: 0.7343419925777904\n",
      "- precision score: 0.6129431948150972\n",
      "- Recall: 0.9157055389434714\n",
      "- roc: 0.6682777552104693\n",
      "- total cost : 336610\n",
      "===================================\n",
      "\n",
      "\n",
      "knn classifier\n",
      "Model performance for test Set\n",
      "- Accuracy: 0.9727823298895618\n",
      "- f1 score: 0.9731892195395845\n",
      "- precision score: 0.9595847750865052\n",
      "- Recall: 0.9871849636907305\n",
      "- roc: 0.9727710329006988\n",
      "- total cost : 47920\n",
      "===================================\n",
      "\n",
      "\n",
      "xgb\n",
      "Model performance for test Set\n",
      "- Accuracy: 0.9960099750623441\n",
      "- f1 score: 0.9960244214113304\n",
      "- precision score: 0.9932040209542687\n",
      "- Recall: 0.9988608856613983\n",
      "- roc: 0.9960077388945896\n",
      "- total cost : 4480\n",
      "===================================\n",
      "\n",
      "\n"
     ]
    }
   ],
   "source": [
    "# Expertiment-3  pipeline for simple imputer with Robust scaler\n",
    "mean_pipeline = Pipeline(steps=[\n",
    "    (\"imputer\", SimpleImputer(strategy='mean')),\n",
    "    (\"Robust\", RobustScaler())\n",
    "])\n",
    "X_mean=mean_pipeline.fit_transform(x)\n",
    "# balance the data\n",
    "from imblearn.combine import SMOTETomek\n",
    "\n",
    "smt = SMOTETomek(random_state=101, sampling_strategy=\"minority\")\n",
    "X_res, y_res = smt.fit_resample(X_mean, y)\n",
    "report_mean=evaluate_model(X_res,y_res,models)"
   ]
  },
  {
   "cell_type": "code",
   "execution_count": 42,
   "id": "4d771cd8-4508-43bf-a889-b70a11ed2db0",
   "metadata": {},
   "outputs": [
    {
     "data": {
      "text/html": [
       "<div>\n",
       "<style scoped>\n",
       "    .dataframe tbody tr th:only-of-type {\n",
       "        vertical-align: middle;\n",
       "    }\n",
       "\n",
       "    .dataframe tbody tr th {\n",
       "        vertical-align: top;\n",
       "    }\n",
       "\n",
       "    .dataframe thead th {\n",
       "        text-align: right;\n",
       "    }\n",
       "</style>\n",
       "<table border=\"1\" class=\"dataframe\">\n",
       "  <thead>\n",
       "    <tr style=\"text-align: right;\">\n",
       "      <th></th>\n",
       "      <th>Model Name</th>\n",
       "      <th>Cost</th>\n",
       "    </tr>\n",
       "  </thead>\n",
       "  <tbody>\n",
       "    <tr>\n",
       "      <th>4</th>\n",
       "      <td>xgb</td>\n",
       "      <td>4480</td>\n",
       "    </tr>\n",
       "    <tr>\n",
       "      <th>0</th>\n",
       "      <td>Random forest</td>\n",
       "      <td>7430</td>\n",
       "    </tr>\n",
       "    <tr>\n",
       "      <th>1</th>\n",
       "      <td>Decision tree</td>\n",
       "      <td>34880</td>\n",
       "    </tr>\n",
       "    <tr>\n",
       "      <th>3</th>\n",
       "      <td>knn classifier</td>\n",
       "      <td>47920</td>\n",
       "    </tr>\n",
       "    <tr>\n",
       "      <th>2</th>\n",
       "      <td>logisitic Regression</td>\n",
       "      <td>336610</td>\n",
       "    </tr>\n",
       "  </tbody>\n",
       "</table>\n",
       "</div>"
      ],
      "text/plain": [
       "             Model Name    Cost\n",
       "4                   xgb    4480\n",
       "0         Random forest    7430\n",
       "1         Decision tree   34880\n",
       "3        knn classifier   47920\n",
       "2  logisitic Regression  336610"
      ]
     },
     "execution_count": 42,
     "metadata": {},
     "output_type": "execute_result"
    }
   ],
   "source": [
    "report_mean"
   ]
  },
  {
   "cell_type": "code",
   "execution_count": 43,
   "id": "9d88f114-5f2a-4ab6-8151-25101f115829",
   "metadata": {},
   "outputs": [],
   "source": [
    "# experiment 4"
   ]
  },
  {
   "cell_type": "code",
   "execution_count": 44,
   "id": "2dcff64e-8479-48c8-a1bd-93ef7dbfeb0d",
   "metadata": {},
   "outputs": [],
   "source": [
    "from sklearn.decomposition import PCA\n"
   ]
  },
  {
   "cell_type": "code",
   "execution_count": 45,
   "id": "a4e39dee-2af5-4298-939a-f2d2a8c3e13b",
   "metadata": {},
   "outputs": [],
   "source": [
    "pca_pipeline = Pipeline(steps=[\n",
    "    (\"imputer\", SimpleImputer(strategy=\"median\")),\n",
    "    (\"Robust\", RobustScaler())\n",
    "])\n"
   ]
  },
  {
   "cell_type": "code",
   "execution_count": 46,
   "id": "2d6aa190-b7f5-4745-8909-dd275621abd0",
   "metadata": {},
   "outputs": [],
   "source": [
    "x_pca = pca_pipeline.fit_transform(x)\n"
   ]
  },
  {
   "cell_type": "code",
   "execution_count": 47,
   "id": "1c1ee028-fde8-4ad7-8ea3-19a261f27cfe",
   "metadata": {},
   "outputs": [],
   "source": [
    "var_ratio = {}\n",
    "for n in range(2,150):\n",
    "    pc = PCA(n_components=n)\n",
    "    df_pca = pc.fit(x_pca)\n",
    "    var_ratio[n] = sum(df_pca.explained_variance_ratio_)\n"
   ]
  },
  {
   "cell_type": "code",
   "execution_count": 48,
   "id": "fbc269ea-807a-434e-a1c7-cf7c6b2881e5",
   "metadata": {},
   "outputs": [
    {
     "data": {
      "text/plain": [
       "<Axes: >"
      ]
     },
     "execution_count": 48,
     "metadata": {},
     "output_type": "execute_result"
    },
    {
     "data": {
      "image/png": "[encoded data removed]",
      "text/plain": [
       "<Figure size 640x480 with 1 Axes>"
      ]
     },
     "metadata": {},
     "output_type": "display_data"
    }
   ],
   "source": [
    "pd.Series(var_ratio).plot()\n"
   ]
  },
  {
   "cell_type": "code",
   "execution_count": 49,
   "id": "71f0873a-3ef5-407f-91d4-5a981a5674e8",
   "metadata": {},
   "outputs": [
    {
     "name": "stdout",
     "output_type": "stream",
     "text": [
      "Defaulting to user installation because normal site-packages is not writeable\n",
      "Requirement already satisfied: kneed in c:\\users\\lenovo\\appdata\\roaming\\python\\python311\\site-packages (0.8.5)\n",
      "Requirement already satisfied: numpy>=1.14.2 in c:\\programdata\\anaconda3\\lib\\site-packages (from kneed) (1.26.4)\n",
      "Requirement already satisfied: scipy>=1.0.0 in c:\\programdata\\anaconda3\\lib\\site-packages (from kneed) (1.11.4)\n"
     ]
    }
   ],
   "source": [
    "!pip install kneed\n"
   ]
  },
  {
   "cell_type": "code",
   "execution_count": 50,
   "id": "98f589f0-e651-47fb-927c-70104fa98491",
   "metadata": {},
   "outputs": [],
   "source": [
    "from kneed import KneeLocator\n"
   ]
  },
  {
   "cell_type": "code",
   "execution_count": 51,
   "id": "2ffd0e0b-16d6-4dad-98a9-b14035301c3c",
   "metadata": {},
   "outputs": [],
   "source": [
    "i = np.arange(len(var_ratio))\n",
    "variance_ratio = list(var_ratio.values())\n",
    "components = list(var_ratio.keys())\n",
    "knee = KneeLocator(i, variance_ratio)\n"
   ]
  },
  {
   "cell_type": "code",
   "execution_count": 52,
   "id": "93766a6c-2c34-4d8d-97b1-6bff2cdd3ca3",
   "metadata": {},
   "outputs": [
    {
     "data": {
      "text/plain": [
       "<Figure size 500x500 with 0 Axes>"
      ]
     },
     "metadata": {},
     "output_type": "display_data"
    },
    {
     "data": {
      "image/png": "[encoded data removed]",
      "text/plain": [
       "<Figure size 600x600 with 1 Axes>"
      ]
     },
     "metadata": {},
     "output_type": "display_data"
    }
   ],
   "source": [
    "fig = plt.figure(figsize=(5,5))\n",
    "knee.plot_knee()\n"
   ]
  },
  {
   "cell_type": "code",
   "execution_count": 53,
   "id": "78cc76b7-152f-4db0-bd9c-5c3b341c6cb6",
   "metadata": {},
   "outputs": [],
   "source": [
    "pca_final = PCA(n_components=14).fit(x_pca)\n",
    "reduced = pca_final.fit_transform(x_pca)\n"
   ]
  },
  {
   "cell_type": "code",
   "execution_count": 54,
   "id": "e9d7f4be-2836-41c9-9ee8-a2f9daa504e0",
   "metadata": {},
   "outputs": [],
   "source": [
    "from imblearn.combine import SMOTETomek\n",
    "smt = SMOTETomek(random_state=101, sampling_strategy=\"minority\")\n",
    "X_res, y_res = smt.fit_resample(reduced, y)\n"
   ]
  },
  {
   "cell_type": "code",
   "execution_count": 55,
   "id": "996e0bbb-718c-42b4-8023-6e47428b3f3d",
   "metadata": {},
   "outputs": [
    {
     "name": "stdout",
     "output_type": "stream",
     "text": [
      "Random forest\n",
      "Model performance for test Set\n",
      "- Accuracy: 0.9793503979350398\n",
      "- f1 score: 0.979328165374677\n",
      "- precision score: 0.9733200171208446\n",
      "- Recall: 0.9854109490105446\n",
      "- roc: 0.9793939710884159\n",
      "- total cost : 52370\n",
      "===================================\n",
      "\n",
      "\n",
      "Decision tree\n",
      "Model performance for test Set\n",
      "- Accuracy: 0.9698859969885997\n",
      "- f1 score: 0.9698102357676825\n",
      "- precision score: 0.9652310774073544\n",
      "- Recall: 0.9744330492561029\n",
      "- roc: 0.969918688637163\n",
      "- total cost : 90930\n",
      "===================================\n",
      "\n",
      "\n"
     ]
    },
    {
     "name": "stderr",
     "output_type": "stream",
     "text": [
      "C:\\Users\\lenovo\\AppData\\Roaming\\Python\\Python311\\site-packages\\sklearn\\linear_model\\_logistic.py:469: ConvergenceWarning: lbfgs failed to converge (status=1):\n",
      "STOP: TOTAL NO. of ITERATIONS REACHED LIMIT.\n",
      "\n",
      "Increase the number of iterations (max_iter) or scale the data as shown in:\n",
      "    https://scikit-learn.org/stable/modules/preprocessing.html\n",
      "Please also refer to the documentation for alternative solver options:\n",
      "    https://scikit-learn.org/stable/modules/linear_model.html#logistic-regression\n",
      "  n_iter_i = _check_optimize_result(\n"
     ]
    },
    {
     "name": "stdout",
     "output_type": "stream",
     "text": [
      "logisitic Regression\n",
      "Model performance for test Set\n",
      "- Accuracy: 0.8413995841399584\n",
      "- f1 score: 0.8197229013854931\n",
      "- precision score: 0.9405273985412381\n",
      "- Recall: 0.7264191824353604\n",
      "- roc: 0.8405729169579992\n",
      "- total cost : 950180\n",
      "===================================\n",
      "\n",
      "\n",
      "knn classifier\n",
      "Model performance for test Set\n",
      "- Accuracy: 0.9618555961855596\n",
      "- f1 score: 0.9620433789954338\n",
      "- precision score: 0.9505145918511209\n",
      "- Recall: 0.9738552650585006\n",
      "- roc: 0.9619418694313006\n",
      "- total cost : 94010\n",
      "===================================\n",
      "\n",
      "\n",
      "xgb\n",
      "Model performance for test Set\n",
      "- Accuracy: 0.9703878970387897\n",
      "- f1 score: 0.9703411131059246\n",
      "- precision score: 0.9648671808054842\n",
      "- Recall: 0.9758775097501083\n",
      "- roc: 0.9704273653534141\n",
      "- total cost : 85960\n",
      "===================================\n",
      "\n",
      "\n"
     ]
    }
   ],
   "source": [
    "report_pca = evaluate_model(X_res, y_res, models)\n"
   ]
  },
  {
   "cell_type": "code",
   "execution_count": 56,
   "id": "4a0f953e-179c-487a-b48d-bedb47a9df67",
   "metadata": {},
   "outputs": [
    {
     "data": {
      "text/html": [
       "<div>\n",
       "<style scoped>\n",
       "    .dataframe tbody tr th:only-of-type {\n",
       "        vertical-align: middle;\n",
       "    }\n",
       "\n",
       "    .dataframe tbody tr th {\n",
       "        vertical-align: top;\n",
       "    }\n",
       "\n",
       "    .dataframe thead th {\n",
       "        text-align: right;\n",
       "    }\n",
       "</style>\n",
       "<table border=\"1\" class=\"dataframe\">\n",
       "  <thead>\n",
       "    <tr style=\"text-align: right;\">\n",
       "      <th></th>\n",
       "      <th>Model Name</th>\n",
       "      <th>Cost</th>\n",
       "    </tr>\n",
       "  </thead>\n",
       "  <tbody>\n",
       "    <tr>\n",
       "      <th>0</th>\n",
       "      <td>Random forest</td>\n",
       "      <td>52370</td>\n",
       "    </tr>\n",
       "    <tr>\n",
       "      <th>4</th>\n",
       "      <td>xgb</td>\n",
       "      <td>85960</td>\n",
       "    </tr>\n",
       "    <tr>\n",
       "      <th>1</th>\n",
       "      <td>Decision tree</td>\n",
       "      <td>90930</td>\n",
       "    </tr>\n",
       "    <tr>\n",
       "      <th>3</th>\n",
       "      <td>knn classifier</td>\n",
       "      <td>94010</td>\n",
       "    </tr>\n",
       "    <tr>\n",
       "      <th>2</th>\n",
       "      <td>logisitic Regression</td>\n",
       "      <td>950180</td>\n",
       "    </tr>\n",
       "  </tbody>\n",
       "</table>\n",
       "</div>"
      ],
      "text/plain": [
       "             Model Name    Cost\n",
       "0         Random forest   52370\n",
       "4                   xgb   85960\n",
       "1         Decision tree   90930\n",
       "3        knn classifier   94010\n",
       "2  logisitic Regression  950180"
      ]
     },
     "execution_count": 56,
     "metadata": {},
     "output_type": "execute_result"
    }
   ],
   "source": [
    "report_pca"
   ]
  },
  {
   "cell_type": "code",
   "execution_count": 59,
   "id": "00c41fda-66b0-4864-8538-b4721ffd5262",
   "metadata": {},
   "outputs": [
    {
     "name": "stdout",
     "output_type": "stream",
     "text": [
      "Defaulting to user installation because normal site-packages is not writeable\n",
      "Collecting PrettyTable\n",
      "  Downloading prettytable-3.11.0-py3-none-any.whl.metadata (30 kB)\n",
      "Requirement already satisfied: wcwidth in c:\\programdata\\anaconda3\\lib\\site-packages (from PrettyTable) (0.2.5)\n",
      "Downloading prettytable-3.11.0-py3-none-any.whl (28 kB)\n",
      "Installing collected packages: PrettyTable\n",
      "Successfully installed PrettyTable-3.11.0\n"
     ]
    }
   ],
   "source": [
    "!pip install PrettyTable"
   ]
  },
  {
   "cell_type": "code",
   "execution_count": 60,
   "id": "04d05249-b318-4928-a324-9d64439df6d2",
   "metadata": {},
   "outputs": [
    {
     "name": "stdout",
     "output_type": "stream",
     "text": [
      "+---------------+-------------------+-------+\n",
      "|     Model     | Imputation_method |  Cost |\n",
      "+---------------+-------------------+-------+\n",
      "|      xgb      |    knn-imputer    |  7990 |\n",
      "|      xgb      |       median      |  1460 |\n",
      "|      xgb      |        mean       |  4480 |\n",
      "| Random foresT |        PCA        | 54870 |\n",
      "+---------------+-------------------+-------+\n"
     ]
    }
   ],
   "source": [
    "from prettytable import PrettyTable\n",
    "\n",
    "pt = PrettyTable()\n",
    "pt.field_names=[\"Model\", \"Imputation_method\", \"Cost\"]\n",
    "pt.add_row(['xgb', \"knn-imputer\", \"7990\"])\n",
    "pt.add_row(['xgb', \"median\", \"1460\"]) # winner\n",
    "pt.add_row(['xgb', \"mean\", \"4480\"])\n",
    "pt.add_row(['Random foresT', \"PCA\", \"54870\"])\n",
    "print(pt)"
   ]
  },
  {
   "cell_type": "code",
   "execution_count": 61,
   "id": "841279ab-d26e-4442-aa2d-0836f09dbfb9",
   "metadata": {},
   "outputs": [],
   "source": [
    "# final Model and Report\n",
    "\n",
    "final_model = XGBClassifier()\n",
    "\n",
    "med_pipeline = Pipeline(steps=[\n",
    "    (\"imputer\", SimpleImputer(strategy=\"median\")),\n",
    "    (\"Robust\", RobustScaler())\n",
    "])\n",
    "X_med = med_pipeline.fit_transform(x)\n",
    "\n",
    "from imblearn.combine import SMOTETomek\n",
    "smt = SMOTETomek(random_state=101, sampling_strategy=\"minority\")\n",
    "X_res, y_res = smt.fit_resample(X_med, y)"
   ]
  },
  {
   "cell_type": "code",
   "execution_count": 62,
   "id": "91b2cb5c-5e41-4516-84a9-00198ffd597b",
   "metadata": {},
   "outputs": [],
   "source": [
    "X_train, X_test, y_train, y_test = train_test_split(X_res, y_res, test_size=0.2, random_state=101)"
   ]
  },
  {
   "cell_type": "code",
   "execution_count": 63,
   "id": "cf149273-c049-408d-bb2f-40ecf80d7692",
   "metadata": {},
   "outputs": [],
   "source": [
    "final_model = final_model.fit(X_train, y_train)\n",
    "y_pred = final_model.predict(X_test)"
   ]
  },
  {
   "cell_type": "code",
   "execution_count": 65,
   "id": "1026b241-41fc-41c8-a51a-05f5379a31c7",
   "metadata": {},
   "outputs": [
    {
     "data": {
      "text/plain": [
       "array([1, 1, 0, ..., 0, 1, 1])"
      ]
     },
     "execution_count": 65,
     "metadata": {},
     "output_type": "execute_result"
    }
   ],
   "source": [
    "y_pred"
   ]
  },
  {
   "cell_type": "code",
   "execution_count": 66,
   "id": "e6dbf1a9-6e45-405e-bb95-5507f6d27bd6",
   "metadata": {},
   "outputs": [
    {
     "data": {
      "text/plain": [
       "0.9965753424657534"
      ]
     },
     "execution_count": 66,
     "metadata": {},
     "output_type": "execute_result"
    }
   ],
   "source": [
    "accuracy_score(y_pred, y_test)"
   ]
  },
  {
   "cell_type": "code",
   "execution_count": 77,
   "id": "b560a299-7a02-48f7-9dc9-6fe1bcf6faa0",
   "metadata": {},
   "outputs": [
    {
     "data": {
      "text/plain": [
       "<sklearn.metrics._plot.confusion_matrix.ConfusionMatrixDisplay at 0x1da30c3cd50>"
      ]
     },
     "execution_count": 77,
     "metadata": {},
     "output_type": "execute_result"
    },
    {
     "data": {
      "image/png": "[encoded data removed]",
      "text/plain": [
       "<Figure size 640x480 with 2 Axes>"
      ]
     },
     "metadata": {},
     "output_type": "display_data"
    },
    {
     "data": {
      "image/png": "[encoded data removed]",
      "text/plain": [
       "<Figure size 640x480 with 2 Axes>"
      ]
     },
     "metadata": {},
     "output_type": "display_data"
    }
   ],
   "source": [
    "from sklearn.metrics import ConfusionMatrixDisplay\n",
    "\n",
    "# Assuming final_model is your trained model, and X_test and y_test are your test data\n",
    "disp = ConfusionMatrixDisplay.from_estimator(final_model, X_test, y_test)\n",
    "disp.plot()\n"
   ]
  },
  {
   "cell_type": "code",
   "execution_count": null,
   "id": "6203f106-6370-44dd-9e95-6d89fda58994",
   "metadata": {},
   "outputs": [],
   "source": []
  }
 ],
 "metadata": {
  "kernelspec": {
   "display_name": "Python 3 (ipykernel)",
   "language": "python",
   "name": "python3"
  },
  "language_info": {
   "codemirror_mode": {
    "name": "ipython",
    "version": 3
   },
   "file_extension": ".py",
   "mimetype": "text/x-python",
   "name": "python",
   "nbconvert_exporter": "python",
   "pygments_lexer": "ipython3",
   "version": "3.11.7"
  }
 },
 "nbformat": 4,
 "nbformat_minor": 5
}
